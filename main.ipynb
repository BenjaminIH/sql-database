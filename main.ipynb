{
 "cells": [
  {
   "cell_type": "markdown",
   "metadata": {},
   "source": [
    "# HUFFLEPUFF WINE ANALYSYS"
   ]
  },
  {
   "cell_type": "markdown",
   "metadata": {},
   "source": [
    "## SOURCES\n"
   ]
  },
  {
   "cell_type": "markdown",
   "metadata": {},
   "source": [
    "# BUSINESS PROBLEM #1\n",
    "- We want our employees to only travel to green countries\n",
    "\n",
    "## HYPOTHESIS \n",
    "- Some countries have lower air travel CO2 emissions per passenger\n",
    "- In some countries the share of CO2 emmissions created from domestic flights surpasses the ones created from international flights\n",
    "- Some countries have lower total CO2 emissions total"
   ]
  },
  {
   "cell_type": "markdown",
   "metadata": {},
   "source": [
    "- Benjamin    : Air travel\n",
    "- Ricardo     : Energy \n",
    "- Anna        : Air pollution \n",
    "- Xinly       : Plasctic pollution \n",
    "- Jp          : Deforastation "
   ]
  },
  {
   "cell_type": "code",
   "execution_count": 100,
   "metadata": {},
   "outputs": [],
   "source": [
    "#imports\n",
    "import pandas as pd"
   ]
  },
  {
   "cell_type": "markdown",
   "metadata": {},
   "source": [
    "### POPULATION CLEANING"
   ]
  },
  {
   "cell_type": "code",
   "execution_count": 101,
   "metadata": {},
   "outputs": [],
   "source": [
    "#import population data\n",
    "populations_df = pd.read_csv('sources/population.csv')"
   ]
  },
  {
   "cell_type": "code",
   "execution_count": null,
   "metadata": {},
   "outputs": [],
   "source": [
    "# rename columns\n",
    "col_names = {'Entity': 'country', 'Code': 'code', 'Year': 'year','Population - Sex: all - Age: all - Variant: estimates': 'population'}\n",
    "populations_df = populations_df.rename(columns=col_names)\n",
    "populations_df.head()\n"
   ]
  },
  {
   "cell_type": "code",
   "execution_count": 103,
   "metadata": {},
   "outputs": [],
   "source": [
    "#export clean population csv\n",
    "populations_df.to_csv('sources/clean/population-clean.csv', index=False)"
   ]
  },
  {
   "cell_type": "markdown",
   "metadata": {},
   "source": [
    "### DEFORESTATION CLEANING"
   ]
  },
  {
   "cell_type": "code",
   "execution_count": null,
   "metadata": {},
   "outputs": [],
   "source": [
    "#import deforestation data\n",
    "forest_df = pd.read_csv('sources/imported-deforestation.csv')\n",
    "forest_df = forest_df.rename(columns=col_names)\n",
    "forest_df.head()"
   ]
  },
  {
   "cell_type": "code",
   "execution_count": null,
   "metadata": {},
   "outputs": [],
   "source": [
    "#imported deforestation by country latest year\n",
    "forest_df_latest = forest_df.loc[forest_df.groupby('country')['year'].idxmax()]\n",
    "forest_df_latest.head()"
   ]
  },
  {
   "cell_type": "code",
   "execution_count": 106,
   "metadata": {},
   "outputs": [],
   "source": [
    "#export clean deforestation csv\n",
    "forest_df_latest.to_csv('sources/clean/imported-deforestation-clean.csv', index=False)"
   ]
  }
 ],
 "metadata": {
  "kernelspec": {
   "display_name": "base",
   "language": "python",
   "name": "python3"
  },
  "language_info": {
   "codemirror_mode": {
    "name": "ipython",
    "version": 3
   },
   "file_extension": ".py",
   "mimetype": "text/x-python",
   "name": "python",
   "nbconvert_exporter": "python",
   "pygments_lexer": "ipython3",
   "version": "3.12.4"
  }
 },
 "nbformat": 4,
 "nbformat_minor": 2
}
