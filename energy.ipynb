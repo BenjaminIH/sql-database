{
   "cells": [
      {
         "cell_type": "markdown",
         "metadata": {},
         "source": [
            "# HUFFLEPUFF BUSINESS TRAVEL ANALYSIS"
         ]
      },
      {
         "cell_type": "markdown",
         "metadata": {},
         "source": [
            "## SOURCES\n"
         ]
      },
      {
         "cell_type": "markdown",
         "metadata": {},
         "source": [
            "# BUSINESS PROBLEM #1\n",
            "- We want our employees to only travel to green countries\n",
            "\n",
            "## HYPOTHESIS \n",
            "- Some countries have lower air travel CO2 emissions per passenger\n",
            "- In some countries the share of CO2 emmissions created from domestic flights surpasses the ones created from international flights\n",
            "- Some countries have lower total CO2 emissions total"
         ]
      },
      {
         "cell_type": "markdown",
         "metadata": {},
         "source": [
            "- Benjamin    : Air travel\n",
            "- Ricardo     : Energy \n",
            "- Anna        : Air pollution \n",
            "- Xinly       : Plasctic pollution \n",
            "- Jp          : Deforastation "
         ]
      },
      {
         "cell_type": "code",
         "execution_count": 117,
         "metadata": {},
         "outputs": [],
         "source": [
            "#TODO remane owid codes to iso codes\n",
            "#TODO export to sql from python"
         ]
      },
      {
         "cell_type": "code",
         "execution_count": 1,
         "metadata": {},
         "outputs": [],
         "source": [
            "#imports\n",
            "import pandas as pd\n",
            "import geopandas as gpd\n",
            "import matplotlib.pyplot as plt\n",
            "#!pip install pycountry\n",
            "import pycountry"
         ]
      },
      {
         "cell_type": "markdown",
         "metadata": {},
         "source": [
            "### POPULATION CLEANING"
         ]
      },
      {
         "cell_type": "code",
         "execution_count": 119,
         "metadata": {},
         "outputs": [],
         "source": [
            "#import population data\n",
            "populations_df = pd.read_csv('sources/population.csv')"
         ]
      },
      {
         "cell_type": "code",
         "execution_count": null,
         "metadata": {},
         "outputs": [],
         "source": [
            "# rename columns\n",
            "col_names = {'Entity': 'country', 'Code': 'code', 'Year': 'year','Population - Sex: all - Age: all - Variant: estimates': 'population'}\n",
            "populations_df = populations_df.rename(columns=col_names)\n",
            "populations_df.head()\n"
         ]
      },
      {
         "cell_type": "code",
         "execution_count": null,
         "metadata": {},
         "outputs": [],
         "source": [
            "#imported deforestation by country latest year\n",
            "populations_df_latest = populations_df.loc[populations_df.groupby('country')['year'].idxmax()]\n",
            "populations_df_latest.head()"
         ]
      },
      {
         "cell_type": "code",
         "execution_count": null,
         "metadata": {},
         "outputs": [],
         "source": [
            "#drop nan values\n",
            "populations_df_latest = populations_df_latest.dropna()\n",
            "populations_df_latest.head()\n"
         ]
      },
      {
         "cell_type": "code",
         "execution_count": 123,
         "metadata": {},
         "outputs": [],
         "source": [
            "#export clean population csv\n",
            "populations_df_latest.to_csv('sources/clean/population-clean.csv', index=False)"
         ]
      },
      {
         "cell_type": "markdown",
         "metadata": {},
         "source": [
            "### DEFORESTATION CLEANING"
         ]
      },
      {
         "cell_type": "code",
         "execution_count": null,
         "metadata": {},
         "outputs": [],
         "source": [
            "#import deforestation data\n",
            "forest_df = pd.read_csv('sources/imported-deforestation.csv')\n",
            "forest_df = forest_df.rename(columns=col_names)\n",
            "forest_df.head()"
         ]
      },
      {
         "cell_type": "code",
         "execution_count": null,
         "metadata": {},
         "outputs": [],
         "source": [
            "#imported deforestation by country latest year\n",
            "forest_df_latest = forest_df.loc[forest_df.groupby('country')['year'].idxmax()]\n",
            "forest_df_latest.head()"
         ]
      },
      {
         "cell_type": "code",
         "execution_count": 126,
         "metadata": {},
         "outputs": [],
         "source": [
            "#export clean deforestation csv\n",
            "forest_df_latest.to_csv('sources/clean/imported-deforestation-clean.csv', index=False)"
         ]
      },
      {
         "cell_type": "markdown",
         "metadata": {},
         "source": [
            "### MAPPING"
         ]
      },
      {
         "cell_type": "code",
         "execution_count": 127,
         "metadata": {},
         "outputs": [],
         "source": [
            "# Load world shape data from geopandas\n",
            "world = gpd.read_file('maps/110m_cultural/ne_110m_admin_0_countries.shp')"
         ]
      },
      {
         "cell_type": "code",
         "execution_count": 128,
         "metadata": {},
         "outputs": [],
         "source": [
            "# Merge with the world GeoDataFrame\n",
            "merged = world.merge(forest_df_latest, how='left', left_on='ISO_A3', right_on='code')"
         ]
      },
      {
         "cell_type": "code",
         "execution_count": null,
         "metadata": {},
         "outputs": [],
         "source": [
            "# Plot the map with filled shapes\n",
            "fig, ax = plt.subplots(1, 1, figsize=(20, 10))\n",
            "\n",
            "# Plot the countries with data\n",
            "merged.plot(column='imported_deforestation', cmap='OrRd', legend=False, ax=ax, missing_kwds={'color': 'lightgrey'})\n",
            "\n",
            "ax.axis('off')\n",
            "\n",
            "plt.title('World Map')\n",
            "plt.show()"
         ]
      },
      {
         "cell_type": "markdown",
         "metadata": {},
         "source": [
            "### AIR POLLUTION CLEANING"
         ]
      },
      {
         "cell_type": "code",
         "execution_count": 130,
         "metadata": {},
         "outputs": [],
         "source": [
            "# Load the dataset\n",
            "file_path = 'https://raw.githubusercontent.com/jipijipi/sql-database/main/sources/AQI%20and%20Lat%20Long%20of%20Countries.csv'\n",
            "df = pd.read_csv(file_path)"
         ]
      },
      {
         "cell_type": "code",
         "execution_count": 131,
         "metadata": {},
         "outputs": [],
         "source": [
            "# Convert AQI Value to numeric, coerce errors to handle any non-numeric values\n",
            "df['AQI Value'] = pd.to_numeric(df['AQI Value'], errors='coerce')\n",
            "\n",
            "# Group by country and calculate the mean AQI value per country\n",
            "country_aqi = df.groupby('Country')['AQI Value'].mean().reset_index()\n",
            "\n",
            "# Min-Max normalization to scale AQI values between 1 and 10\n",
            "min_aqi = country_aqi['AQI Value'].min()\n",
            "max_aqi = country_aqi['AQI Value'].max()\n",
            "\n",
            "country_aqi['Pollution Score'] = 1 + 9 * (country_aqi['AQI Value'] - min_aqi) / (max_aqi - min_aqi)\n",
            "\n",
            "# Round and convert the Pollution Score to integers\n",
            "country_aqi['Rounded Pollution Score'] = country_aqi['Pollution Score'].round().astype(int)"
         ]
      },
      {
         "cell_type": "code",
         "execution_count": 132,
         "metadata": {},
         "outputs": [],
         "source": [
            "# Function to get the 3-letter country code\n",
            "def get_country_code(country_name):\n",
            "    try:\n",
            "        return pycountry.countries.lookup(country_name).alpha_3\n",
            "    except LookupError:\n",
            "        return None\n",
            "\n",
            "# Add a new column with the 3-letter country code\n",
            "country_aqi['Country Code'] = country_aqi['Country'].apply(get_country_code)"
         ]
      },
      {
         "cell_type": "markdown",
         "metadata": {},
         "source": [
            "### ENERGY"
         ]
      },
      {
         "cell_type": "code",
         "execution_count": 3,
         "metadata": {},
         "outputs": [],
         "source": [
            "import numpy as np\n",
            "import pymysql, os\n",
            "from sqlalchemy import create_engine\n",
            "from dotenv import load_dotenv\n",
            "import pandas as pd"
         ]
      },
      {
         "cell_type": "code",
         "execution_count": null,
         "metadata": {},
         "outputs": [],
         "source": [
            "# imports energy file\n",
            "energy = pd.read_csv(\"sources/owid-energy-data.csv\")\n",
            "\n",
            "## starts cleaning data\n",
            "\n",
            "# filter geographics\n",
            "pattern = r'(?i)^(Asia|Africa|South Am|South and C|Europe|Oceania|America|CIS|Central & South|United States Pac|United States Territor|World|U.S.|Upper-middle|United States Virgin|Middle Africa|Wake|Middle East|Eastern Africa|Western Africa|G7|Lower-middle|Low-income|Latin America|G20|Non-OPEC|Non-OECD|North Ame|High-inc|OPEC|OECD|Central America|Persian G|Central and South America|Australia and New Zealand|ASEAN|EU|Antarctica|Pacific|Caribbean|Ember).*'\n",
            "\n",
            "# Create a mask for non-country entries\n",
            "mask = ~energy['country'].str.contains(pattern, case=False, regex=True)\n",
            "\n",
            "# Filter the DataFrame to keep only country entries\n",
            "energy= energy[mask].reset_index(drop=True)"
         ]
      },
      {
         "cell_type": "code",
         "execution_count": 7,
         "metadata": {},
         "outputs": [],
         "source": [
            "## filters by year, removes most almost-blank rows\n",
            "\n",
            "en2=energy.copy()\n",
            "en2 = en2[en2[\"year\"]>2000]"
         ]
      },
      {
         "cell_type": "code",
         "execution_count": 8,
         "metadata": {},
         "outputs": [],
         "source": [
            "# filters by NaN, removes cells with higher than X NaNs\n",
            "en3=en2.copy()\n",
            "fen3 = en3.isna().sum(axis=0) > 2000\n",
            "fen = fen3[fen3]\n",
            "\n",
            "msk = list(fen.index)\n",
            "for ms in msk:\n",
            "    en3.drop(ms, axis = 1, inplace=True)"
         ]
      },
      {
         "cell_type": "code",
         "execution_count": 9,
         "metadata": {},
         "outputs": [],
         "source": [
            "# transposes table, filters by Y NaN rows\n",
            "en4=en3.T.copy()\n",
            "\n",
            "fen2 = en4.isna().sum(axis=0) > 2000\n",
            "f2 = fen2[fen2]\n",
            "\n",
            "msk2 = list(f2.index)\n",
            "for ck in msk2:\n",
            "    en4.drop(ck, axis = 1, inplace=True)\n"
         ]
      },
      {
         "cell_type": "code",
         "execution_count": null,
         "metadata": {},
         "outputs": [],
         "source": [
            "## scoring system: min(1,10-min((round(%green energy/10 + %biofuel/20 + pop(x10^9)/100,0)), 10))\n",
            "en5 = en4.T.copy() \n",
            "\n",
            "# Remove columns with 'non_parameter' columns\n",
            "en5.drop(columns=[col for col in en5.columns if '_electricity' in col],inplace=True)\n",
            "en5.drop(columns=[col for col in en5.columns if 'prod' in col],inplace=True)\n",
            "en5.drop(columns=[col for col in en5.columns if 'primary' in col],inplace=True)\n",
            "\n",
            "#display(en5.columns)\n",
            "en5[\"greenscore1\"]=en5[['hydro_share_elec', 'nuclear_share_elec', 'solar_share_elec', 'wind_share_elec']].sum(axis=1)\n",
            "en5[\"greenscore2\"]=en5['renewables_share_elec']\n",
            "en5[\"greenscore\"] = en5[['greenscore1', 'greenscore2']].max(axis=1)\n",
            "en5[\"blackscore\"]= (int(100) - en5[\"greenscore\"].fillna(0))\n",
            "en5[\"score\"] = ((en5[\"greenscore\"].fillna(0) / 10) + (en5[\"biofuel_share_elec\"].fillna(0) / 20) + (en5[\"population\"].fillna(0) / 1000000000))\n",
            "en5[\"score\"] = 10 - en5[\"score\"].round(0).clip(upper=10)\n",
            "\n",
            "\n",
            "#en5_2 = en5.groupby(\"country\")[\"score\"].mean()\n",
            "\n",
            "#en5_2\n"
         ]
      },
      {
         "cell_type": "code",
         "execution_count": null,
         "metadata": {},
         "outputs": [],
         "source": [
            "## Loads SQL\n",
            "\n",
            "load_dotenv()\n",
            "password = os.getenv(\"PASSWORD\")\n",
            "bd = \"energy\"\n",
            "connection_string = 'mysql+pymysql://root:' + password + '@localhost/'+bd\n",
            "engine = create_engine(connection_string)\n",
            "engine"
         ]
      },
      {
         "cell_type": "code",
         "execution_count": null,
         "metadata": {},
         "outputs": [],
         "source": [
            "## data prep'ed for SQL\n",
            "\n",
            "en6=en5.copy()\n",
            "filename = \"energy_clean1\"\n",
            "en6.fillna(0, inplace=True)\n",
            "en6.to_csv(f\"sources/{filename}.csv\")\n",
            "en5.to_sql(f\"{filename}\", con = engine, if_exists='replace')\n"
         ]
      },
      {
         "cell_type": "code",
         "execution_count": null,
         "metadata": {},
         "outputs": [],
         "source": [
            "import pymysql\n",
            "from sqlalchemy import Table, Column, Integer, String, MetaData, ForeignKey\n",
            "from sqlalchemy import inspect\n",
            "from sqlalchemy.sql import text\n",
            "\n",
            "## groupby country\n",
            "\n",
            "statement=\"SELECT country,iso_code, round(avg(score),0) AS en_score FROM energy_clean1 GROUP BY country, iso_code ORDER BY en_score ASC;\"\n",
            "\n",
            "with engine.connect() as con:\n",
            "    try:\n",
            "        # Execute the query to fetch results\n",
            "        en_score = pd.read_sql(statement, con)\n",
            "\n",
            "    except Exception as e:\n",
            "        print(f\"An error occurred: {e}\")\n",
            "\n",
            "en_score"
         ]
      },
      {
         "cell_type": "code",
         "execution_count": 16,
         "metadata": {},
         "outputs": [],
         "source": [
            "import seaborn as sns\n",
            "import matplotlib.pyplot as plt\n"
         ]
      },
      {
         "cell_type": "code",
         "execution_count": null,
         "metadata": {},
         "outputs": [],
         "source": [
            "statement2 = (\n",
            "            \"SELECT \" \n",
            "                \"country, \"\n",
            "                \"iso_code, \" \n",
            "                \"ROUND(AVG(score),0) AS en_score, \"\n",
            "                \"ROUND(AVG(greenscore),0) AS gr_score, \"\n",
            "                \"AVG(biofuel_share_elec) AS avg_biofuel, \"\n",
            "                \"AVG(coal_share_elec) AS avg_coal, \"\n",
            "                \"AVG(hydro_share_elec) AS avg_hydro, \" \n",
            "                \"AVG(gas_share_elec) AS avg_gas, \"\n",
            "                \"AVG(nuclear_share_elec) AS avg_nuclear, \"\n",
            "                \"AVG(oil_share_elec) AS avg_oil, \"\n",
            "                \"AVG(solar_share_elec) AS avg_solar, \"\n",
            "                \"AVG(wind_share_elec) AS avg_wind \"\n",
            "            \"FROM \" \n",
            "                \"energy_clean1 \"\n",
            "            \"GROUP BY \" \n",
            "                \"country, \"\n",
            "                \"iso_code \" \n",
            "            \"ORDER BY \"\n",
            "                \"en_score ASC \"\n",
            "            \"LIMIT 5\"\n",
            "            \";\"\n",
            "            )\n",
            "\n",
            "statement3 = (\n",
            "            \"SELECT \" \n",
            "                \"country, \"\n",
            "                \"iso_code, \" \n",
            "                \"ROUND(AVG(score),0) AS en_score, \"\n",
            "                \"ROUND(AVG(greenscore),0) AS gr_score, \"\n",
            "                \"AVG(biofuel_share_elec) AS avg_biofuel, \"\n",
            "                \"AVG(coal_share_elec) AS avg_coal, \"\n",
            "                \"AVG(hydro_share_elec) AS avg_hydro, \" \n",
            "                \"AVG(gas_share_elec) AS avg_gas, \"\n",
            "                \"AVG(nuclear_share_elec) AS avg_nuclear, \"\n",
            "                \"AVG(oil_share_elec) AS avg_oil, \"\n",
            "                \"AVG(solar_share_elec) AS avg_solar, \"\n",
            "                \"AVG(wind_share_elec) AS avg_wind \"\n",
            "            \"FROM \" \n",
            "                \"energy_clean1 \"\n",
            "            \"GROUP BY \" \n",
            "                \"country, \"\n",
            "                \"iso_code \"\n",
            "            \"ORDER BY \"\n",
            "                \"en_score DESC \"\n",
            "            \"LIMIT 5\"\n",
            "            \";\"\n",
            "            )\n",
            "\n",
            "with engine.connect() as con:\n",
            "    try:\n",
            "        # Execute the query to fetch results\n",
            "        graph1 = pd.read_sql(statement2, con)\n",
            "\n",
            "    except Exception as e:\n",
            "        print(f\"An error occurred: {e}\")\n",
            "        \n",
            "    try:\n",
            "        # Execute the query to fetch results\n",
            "        graph2 = pd.read_sql(statement3, con)\n",
            "\n",
            "    except Exception as e:\n",
            "        print(f\"An error occurred: {e}\")\n",
            "\n",
            "graphics = pd.concat([graph1, graph2], ignore_index=True)\n",
            "graphics"
         ]
      },
      {
         "cell_type": "code",
         "execution_count": null,
         "metadata": {},
         "outputs": [],
         "source": [
            "# Melt the DataFrame for easier plotting\n",
            "df_melted = graphics.melt(id_vars='country', \n",
            "                    value_vars=['avg_biofuel', 'avg_coal', 'avg_hydro', 'avg_gas', \n",
            "                                'avg_nuclear', 'avg_oil', 'avg_solar', 'avg_wind'],\n",
            "                    var_name='Energy Source', \n",
            "                    value_name='Average Value')\n",
            "\n",
            "\n",
            "# Create a bar plot\n",
            "sns.barplot(data=df_melted, x='country', y='Average Value', hue='Energy Source')\n",
            "\n",
            "# Adding titles and labels\n",
            "plt.title('Average Energy Shares by Country')\n",
            "plt.xlabel('Country')\n",
            "plt.ylabel('Average Value (%)')\n",
            "plt.xticks(rotation=45)\n",
            "plt.legend(title='Energy Source')\n",
            "\n",
            "# Show the plot\n",
            "plt.tight_layout()\n",
            "plt.show()"
         ]
      },
      {
         "cell_type": "code",
         "execution_count": null,
         "metadata": {},
         "outputs": [],
         "source": [
            "statement4 = (\n",
            "            \"SELECT \" \n",
            "                \"ROUND(AVG(score),0) AS en_score, \"\n",
            "                \"AVG(biofuel_share_elec) AS avg_biofuel, \"\n",
            "                \"AVG(coal_share_elec) AS avg_coal, \"\n",
            "                \"AVG(hydro_share_elec) AS avg_hydro, \" \n",
            "                \"AVG(gas_share_elec) AS avg_gas, \"\n",
            "                \"AVG(nuclear_share_elec) AS avg_nuclear, \"\n",
            "                \"AVG(oil_share_elec) AS avg_oil, \"\n",
            "                \"AVG(solar_share_elec) AS avg_solar, \"\n",
            "                \"AVG(wind_share_elec) AS avg_wind \"\n",
            "            \"FROM \" \n",
            "                \"energy_clean1 \"\n",
            "            )\n",
            "\n",
            "with engine.connect() as con:\n",
            "    try:\n",
            "        # Execute the query to fetch results\n",
            "        graph4 = pd.read_sql(statement4, con)\n",
            "\n",
            "    except Exception as e:\n",
            "        print(f\"An error occurred: {e}\")\n",
            "        \n",
            "graph4"
         ]
      },
      {
         "cell_type": "code",
         "execution_count": null,
         "metadata": {},
         "outputs": [],
         "source": [
            "# Create a new DataFrame for renewable and non-renewable\n",
            "renewable = {\n",
            "    'Source': ['Hydro', 'Solar', 'Wind', '\"Biofuel\"'],\n",
            "    'Average Value': [graph4['avg_hydro'][0], graph4['avg_solar'][0], \n",
            "                      graph4['avg_wind'][0], graph4['avg_biofuel'][0]]\n",
            "}\n",
            "\n",
            "non_renewable = {\n",
            "    'Source': ['Coal', 'Gas', 'Oil', 'Nuclear'],\n",
            "    'Average Value': [graph4['avg_coal'][0], graph4['avg_gas'][0], \n",
            "                      graph4['avg_oil'][0], graph4['avg_nuclear'][0]]\n",
            "}\n",
            "\n",
            "# Combine into a single DataFrame\n",
            "renewable_df = pd.DataFrame(renewable)\n",
            "non_renewable_df = pd.DataFrame(non_renewable)\n",
            "\n",
            "# Add a column to indicate renewable or non-renewable\n",
            "renewable_df['Type'] = 'Renewable'\n",
            "non_renewable_df['Type'] = 'Non-Renewable'\n",
            "\n",
            "# Concatenate the two DataFrames\n",
            "final_df = pd.concat([renewable_df, non_renewable_df], ignore_index=True)\n",
            "\n",
            "# Create the bar plot\n",
            "sns.barplot(data=final_df, x='Source', y='Average Value', hue='Type')\n",
            "\n",
            "# Adding titles and labels\n",
            "plt.title('Average Energy Shares: Renewable vs Non-Renewable')\n",
            "plt.xlabel('Energy Source')\n",
            "plt.ylabel('Average Value (%)')\n",
            "plt.xticks(rotation=45)\n",
            "\n",
            "# Show the plot\n",
            "plt.tight_layout()\n",
            "plt.legend(title='Energy Type')\n",
            "plt.show()"
         ]
      },
      {
         "cell_type": "code",
         "execution_count": null,
         "metadata": {},
         "outputs": [],
         "source": [
            "# Calculate total averages for renewable and non-renewable\n",
            "total_renewable = (\n",
            "    graph4['avg_biofuel'][0] +\n",
            "    graph4['avg_hydro'][0] +\n",
            "    graph4['avg_solar'][0] +\n",
            "    graph4['avg_wind'][0]\n",
            ")\n",
            "\n",
            "total_non_renewable = (\n",
            "    graph4['avg_coal'][0] +\n",
            "    graph4['avg_gas'][0] +\n",
            "    graph4['avg_oil'][0] +\n",
            "    graph4['avg_nuclear'][0]\n",
            ")\n",
            "\n",
            "# Create a DataFrame for the pie chart\n",
            "pie_data = pd.DataFrame({\n",
            "    'Type': ['Renewable', 'Non-Renewable'],\n",
            "    'Average Value': [total_renewable, total_non_renewable]\n",
            "})\n",
            "\n",
            "# Set the figure size\n",
            "plt.figure(figsize=(8, 8))\n",
            "\n",
            "# Create the pie chart\n",
            "plt.pie(pie_data['Average Value'], labels=pie_data['Type'], autopct='%1.1f%%', startangle=140)\n",
            "\n",
            "# Adding a title\n",
            "plt.title('Renewable vs Non-Renewable Energy Averages')\n",
            "\n",
            "# Show the plot\n",
            "plt.axis('equal')  # Equal aspect ratio ensures that pie is drawn as a circle.\n",
            "plt.show()"
         ]
      },
      {
         "cell_type": "code",
         "execution_count": null,
         "metadata": {},
         "outputs": [],
         "source": [
            "# Function to get the 3-letter country code\n",
            "def get_country_code(country_name):\n",
            "    try:\n",
            "        return pycountry.countries.lookup(country_name).alpha_3\n",
            "    except LookupError:\n",
            "        return None\n",
            "\n",
            "# Add a new column with the 3-letter country code\n",
            "en_score['code'] = en_score['country'].apply(get_country_code)\n",
            "en_score"
         ]
      },
      {
         "cell_type": "code",
         "execution_count": 25,
         "metadata": {},
         "outputs": [],
         "source": [
            "# for manual fixing of codes\n",
            "en_score.to_csv(\"checkout.csv\")"
         ]
      },
      {
         "cell_type": "code",
         "execution_count": null,
         "metadata": {},
         "outputs": [],
         "source": [
            "import geopandas as gpd\n",
            "import matplotlib.colors as mcolors\n",
            "import pycountry\n",
            "\n",
            "en_score2 = pd.read_csv(\"checkout2.csv\")\n",
            "\n",
            "# Load world shape data from geopandas\n",
            "world = gpd.read_file('maps/110m_cultural/ne_110m_admin_0_countries.shp')\n",
            "\n",
            "# Merge with the world GeoDataFrame\n",
            "m1 = world.merge(en_score2, how='left', left_on='SOV_A3', right_on='code')\n",
            "\n",
            "# Define a custom colormap without white\n",
            "colors = ['#1dbf1d', '#e30f0b'] \n",
            "custom_cmap = mcolors.LinearSegmentedColormap.from_list(\"custom_reds\", colors)\n",
            "\n",
            "# Plot the map with filled shapes\n",
            "fig, ax = plt.subplots(1, 1, figsize=(20, 10))\n",
            "\n",
            "# Plot the countries with data using the custom colormap\n",
            "m1.plot(column='en_score', cmap=custom_cmap, legend=False, ax=ax, missing_kwds={'color': 'darkgrey'})\n",
            "\n",
            "# Create a colorbar\n",
            "sm = plt.cm.ScalarMappable(cmap=custom_cmap, norm=plt.Normalize(vmin=m1['en_score'].min(), vmax=m1['en_score'].max()))\n",
            "sm.set_array([])  # Needed for older versions of matplotlib\n",
            "plt.colorbar(sm, ax=ax, label='Energy Score')\n",
            "\n",
            "# Set title and remove axis\n",
            "ax.axis('off')\n",
            "plt.title('World Map by Green Energy')\n",
            "plt.show()"
         ]
      }
   ],
   "metadata": {
      "kernelspec": {
         "display_name": "Python 3 (ipykernel)",
         "language": "python",
         "name": "python3"
      },
      "language_info": {
         "codemirror_mode": {
            "name": "ipython",
            "version": 3
         },
         "file_extension": ".py",
         "mimetype": "text/x-python",
         "name": "python",
         "nbconvert_exporter": "python",
         "pygments_lexer": "ipython3",
         "version": "3.12.7"
      }
   },
   "nbformat": 4,
   "nbformat_minor": 4
}
