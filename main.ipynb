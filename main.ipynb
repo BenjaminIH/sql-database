{
   "cells": [
      {
         "cell_type": "markdown",
         "metadata": {},
         "source": [
            "# HUFFLEPUFF BUSINESS TRAVEL ANALYSIS"
         ]
      },
      {
         "cell_type": "markdown",
         "metadata": {},
         "source": [
            "## SOURCES\n"
         ]
      },
      {
         "cell_type": "markdown",
         "metadata": {},
         "source": [
            "# BUSINESS PROBLEM #1\n",
            "- We want our employees to only travel to green countries\n",
            "\n",
            "## HYPOTHESIS \n",
            "- Some countries have lower air travel CO2 emissions per passenger\n",
            "- In some countries the share of CO2 emmissions created from domestic flights surpasses the ones created from international flights\n",
            "- Some countries have lower total CO2 emissions total"
         ]
      },
      {
         "cell_type": "markdown",
         "metadata": {},
         "source": [
            "- Benjamin    : Air travel\n",
            "- Ricardo     : Energy \n",
            "- Anna        : Air pollution \n",
            "- Xinly       : Plasctic pollution \n",
            "- Jp          : Deforastation "
         ]
      },
      {
         "cell_type": "code",
         "execution_count": 269,
         "metadata": {},
         "outputs": [],
         "source": [
            "#TODO remane owid codes to iso codes\n",
            "#TODO export to sql from python"
         ]
      },
      {
         "cell_type": "code",
         "execution_count": 270,
         "metadata": {},
         "outputs": [],
         "source": [
            "#imports\n",
            "import pandas as pd\n",
            "import geopandas as gpd\n",
            "import matplotlib.pyplot as plt\n",
            "!pip install pycountry\n",
            "import pycountry"
         ]
      },
      {
         "cell_type": "markdown",
         "metadata": {},
         "source": [
            "### POPULATION CLEANING"
         ]
      },
      {
         "cell_type": "code",
         "execution_count": 271,
         "metadata": {},
         "outputs": [],
         "source": [
            "#import population data\n",
            "populations_df = pd.read_csv('sources/population.csv')"
         ]
      },
      {
         "cell_type": "code",
         "execution_count": null,
         "metadata": {},
         "outputs": [],
         "source": [
            "# rename columns\n",
            "col_names = {'Entity': 'country', 'Code': 'code', 'Year': 'year','Population - Sex: all - Age: all - Variant: estimates': 'population'}\n",
            "populations_df = populations_df.rename(columns=col_names)\n",
            "populations_df.head()\n"
         ]
      },
      {
         "cell_type": "code",
         "execution_count": null,
         "metadata": {},
         "outputs": [],
         "source": [
            "#imported deforestation by country latest year\n",
            "populations_df_latest = populations_df.loc[populations_df.groupby('country')['year'].idxmax()]\n",
            "populations_df_latest.head()"
         ]
      },
      {
         "cell_type": "code",
         "execution_count": null,
         "metadata": {},
         "outputs": [],
         "source": [
            "#drop nan values\n",
            "populations_df_latest = populations_df_latest.dropna()\n",
            "populations_df_latest.head()\n"
         ]
      },
      {
         "cell_type": "code",
         "execution_count": 275,
         "metadata": {},
         "outputs": [],
         "source": [
            "#export clean population csv\n",
            "populations_df_latest.to_csv('sources/clean/population-clean.csv', index=False)"
         ]
      },
      {
         "cell_type": "markdown",
         "metadata": {},
         "source": [
            "### DEFORESTATION CLEANING"
         ]
      },
      {
         "cell_type": "code",
         "execution_count": null,
         "metadata": {},
         "outputs": [],
         "source": [
            "#import deforestation data\n",
            "forest_df = pd.read_csv('sources/imported-deforestation.csv')\n",
            "forest_df = forest_df.rename(columns=col_names)\n",
            "forest_df.head()"
         ]
      },
      {
         "cell_type": "code",
         "execution_count": null,
         "metadata": {},
         "outputs": [],
         "source": [
            "#imported deforestation by country latest year\n",
            "forest_df_latest = forest_df.loc[forest_df.groupby('country')['year'].idxmax()]\n",
            "forest_df_latest.head()"
         ]
      },
      {
         "cell_type": "code",
         "execution_count": 278,
         "metadata": {},
         "outputs": [],
         "source": [
            "#export clean deforestation csv\n",
            "forest_df_latest.to_csv('sources/clean/imported-deforestation-clean.csv', index=False)"
         ]
      },
      {
         "cell_type": "markdown",
         "metadata": {},
         "source": [
            "### MAPPING"
         ]
      },
      {
         "cell_type": "code",
         "execution_count": 279,
         "metadata": {},
         "outputs": [],
         "source": [
            "# Load world shape data from geopandas\n",
            "world = gpd.read_file('maps/110m_cultural/ne_110m_admin_0_countries.shp')"
         ]
      },
      {
         "cell_type": "code",
         "execution_count": 280,
         "metadata": {},
         "outputs": [],
         "source": [
            "# Merge with the world GeoDataFrame\n",
            "merged = world.merge(forest_df_latest, how='left', left_on='ISO_A3', right_on='code')"
         ]
      },
      {
         "cell_type": "code",
         "execution_count": null,
         "metadata": {},
         "outputs": [],
         "source": [
            "# Plot the map with filled shapes\n",
            "fig, ax = plt.subplots(1, 1, figsize=(20, 10))\n",
            "\n",
            "# Plot the countries with data\n",
            "merged.plot(column='imported_deforestation', cmap='OrRd', legend=False, ax=ax, missing_kwds={'color': 'lightgrey'})\n",
            "\n",
            "ax.axis('off')\n",
            "\n",
            "plt.title('World Map')\n",
            "plt.show()"
         ]
      },
      {
         "cell_type": "markdown",
         "metadata": {},
         "source": [
            "### AIR POLLUTION CLEANING"
         ]
      },
      {
         "cell_type": "code",
         "execution_count": null,
         "metadata": {},
         "outputs": [],
         "source": [
            "# Load the dataset\n",
            "file_path = 'https://raw.githubusercontent.com/jipijipi/sql-database/main/sources/AQI%20and%20Lat%20Long%20of%20Countries.csv'\n",
            "df = pd.read_csv(file_path)"
         ]
      },
      {
         "cell_type": "code",
         "execution_count": null,
         "metadata": {},
         "outputs": [],
         "source": [
            "# Convert AQI Value to numeric, coerce errors to handle any non-numeric values\n",
            "df['AQI Value'] = pd.to_numeric(df['AQI Value'], errors='coerce')\n",
            "\n",
            "# Group by country and calculate the mean AQI value per country\n",
            "country_aqi = df.groupby('Country')['AQI Value'].mean().reset_index()\n",
            "\n",
            "# Min-Max normalization to scale AQI values between 1 and 10\n",
            "min_aqi = country_aqi['AQI Value'].min()\n",
            "max_aqi = country_aqi['AQI Value'].max()\n",
            "\n",
            "country_aqi['Pollution Score'] = 1 + 9 * (country_aqi['AQI Value'] - min_aqi) / (max_aqi - min_aqi)\n",
            "\n",
            "# Round and convert the Pollution Score to integers\n",
            "country_aqi['Rounded Pollution Score'] = country_aqi['Pollution Score'].round().astype(int)"
         ]
      },
      {
         "cell_type": "code",
         "execution_count": null,
         "metadata": {},
         "outputs": [],
         "source": [
            "# Function to get the 3-letter country code\n",
            "def get_country_code(country_name):\n",
            "    try:\n",
            "        return pycountry.countries.lookup(country_name).alpha_3\n",
            "    except LookupError:\n",
            "        return None\n",
            "\n",
            "# Add a new column with the 3-letter country code\n",
            "country_aqi['Country Code'] = country_aqi['Country'].apply(get_country_code)"
         ]
      }
   ],
   "metadata": {
      "kernelspec": {
         "display_name": "Python 3 (ipykernel)",
         "language": "python",
         "name": "python3"
      },
      "language_info": {
         "codemirror_mode": {
            "name": "ipython",
            "version": 3
         },
         "file_extension": ".py",
         "mimetype": "text/x-python",
         "name": "python",
         "nbconvert_exporter": "python",
         "pygments_lexer": "ipython3",
         "version": "3.11.7"
      }
   },
   "nbformat": 4,
   "nbformat_minor": 4
}