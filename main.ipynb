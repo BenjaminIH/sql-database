{
 "cells": [
  {
   "cell_type": "markdown",
   "metadata": {},
   "source": [
    "# HUFFLEPUFF WINE ANALYSYS"
   ]
  },
  {
   "cell_type": "markdown",
   "metadata": {},
   "source": [
    "## SOURCES\n"
   ]
  },
  {
   "cell_type": "markdown",
   "metadata": {},
   "source": [
    "# BUSINESS PROBLEM #1\n",
    "- We want our employees to only travel to green countries\n",
    "\n",
    "## HYPOTHESIS \n",
    "- Some countries have lower air travel CO2 emissions per passenger\n",
    "- In some countries the share of CO2 emmissions created from domestic flights surpasses the ones created from international flights\n",
    "- Some countries have lower total CO2 emissions total"
   ]
  },
  {
   "cell_type": "markdown",
   "metadata": {},
   "source": [
    "- Benjamin    : Air travel\n",
    "- Ricardo     : Energy \n",
    "- Anna        : Air pollution \n",
    "- Xinly       : Plasctic pollution \n",
    "- Jp          : Deforastation "
   ]
  },
  {
   "cell_type": "code",
   "execution_count": 1,
   "metadata": {},
   "outputs": [
    {
     "name": "stdout",
     "output_type": "stream",
     "text": [
      "hello\n"
     ]
    }
   ],
   "source": [
    "print('hello')"
   ]
  }
 ],
 "metadata": {
  "kernelspec": {
   "display_name": "base",
   "language": "python",
   "name": "python3"
  },
  "language_info": {
   "codemirror_mode": {
    "name": "ipython",
    "version": 3
   },
   "file_extension": ".py",
   "mimetype": "text/x-python",
   "name": "python",
   "nbconvert_exporter": "python",
   "pygments_lexer": "ipython3",
   "version": "3.12.4"
  }
 },
 "nbformat": 4,
 "nbformat_minor": 2
}
